{
 "cells": [
  {
   "cell_type": "code",
   "execution_count": null,
   "id": "5f2ea142-8d8e-4d7b-9118-fd265840bee0",
   "metadata": {},
   "outputs": [],
   "source": [
    "import pickle\n",
    "\n",
    "\n",
    "model_filename = \"model.pkl\"\n",
    "\n",
    "\n",
    "with open(model_filename, \"wb\") as f:\n",
    "    pickle.dump(model, f)\n",
    "\n",
    "print(f\"Model kaydedildi: {model_filename}\")\n",
    "\n",
    "\n",
    "with open(model_filename, \"rb\") as f:\n",
    "    loaded_model = pickle.load(f)\n",
    "\n",
    "yeni_veri = [[...]]  \n",
    "prediction = loaded_model.predict(yeni_veri)\n",
    "\n",
    "print(f\"Tahmin sonucu: {prediction}\")\n"
   ]
  }
 ],
 "metadata": {
  "kernelspec": {
   "display_name": "Python 3 (ipykernel)",
   "language": "python",
   "name": "python3"
  },
  "language_info": {
   "codemirror_mode": {
    "name": "ipython",
    "version": 3
   },
   "file_extension": ".py",
   "mimetype": "text/x-python",
   "name": "python",
   "nbconvert_exporter": "python",
   "pygments_lexer": "ipython3",
   "version": "3.12.4"
  }
 },
 "nbformat": 4,
 "nbformat_minor": 5
}
